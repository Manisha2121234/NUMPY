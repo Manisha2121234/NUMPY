{
  "nbformat": 4,
  "nbformat_minor": 0,
  "metadata": {
    "colab": {
      "provenance": []
    },
    "kernelspec": {
      "name": "python3",
      "display_name": "Python 3"
    },
    "language_info": {
      "name": "python"
    }
  },
  "cells": [
    {
      "cell_type": "code",
      "execution_count": null,
      "metadata": {
        "id": "YwthdwMhjKvc"
      },
      "outputs": [],
      "source": []
    },
    {
      "cell_type": "markdown",
      "source": [
        "# 1D ARRAY:"
      ],
      "metadata": {
        "id": "kTvDF5Q1jU7v"
      }
    },
    {
      "cell_type": "code",
      "source": [
        "import numpy as np\n",
        "a=np.array([1,2,3])\n",
        "print(a)"
      ],
      "metadata": {
        "colab": {
          "base_uri": "https://localhost:8080/"
        },
        "id": "jZrChtcdjisb",
        "outputId": "cdb976cf-c36b-43a5-b485-ba0627d9865c"
      },
      "execution_count": 1,
      "outputs": [
        {
          "output_type": "stream",
          "name": "stdout",
          "text": [
            "[1 2 3]\n"
          ]
        }
      ]
    },
    {
      "cell_type": "markdown",
      "source": [
        "# 2D ARRAY:"
      ],
      "metadata": {
        "id": "C4sogKqLkrop"
      }
    },
    {
      "cell_type": "code",
      "source": [
        "b=np.array([(1,2,3),(4,5,6)])\n",
        "print(b)"
      ],
      "metadata": {
        "colab": {
          "base_uri": "https://localhost:8080/"
        },
        "id": "_byJOL2gj3AI",
        "outputId": "f4a07d47-fdbc-4ac9-c693-ec6c4d2d6720"
      },
      "execution_count": 88,
      "outputs": [
        {
          "output_type": "stream",
          "name": "stdout",
          "text": [
            "[[1 2 3]\n",
            " [4 5 6]]\n"
          ]
        }
      ]
    },
    {
      "cell_type": "markdown",
      "source": [
        "# 3D ARRAY:"
      ],
      "metadata": {
        "id": "PuootVT4kzb2"
      }
    },
    {
      "cell_type": "code",
      "source": [
        "import numpy as np\n",
        "c=np.array([[(3,2,3),(5,6,7)],[(8,9,5),(1,2,3)]])\n",
        "print(c)\n",
        "print(c.ndim)"
      ],
      "metadata": {
        "colab": {
          "base_uri": "https://localhost:8080/"
        },
        "id": "OgAPXjEVkIFV",
        "outputId": "e708da90-583a-4545-fa5e-a9cdd3104f4d"
      },
      "execution_count": 110,
      "outputs": [
        {
          "output_type": "stream",
          "name": "stdout",
          "text": [
            "[[[3 2 3]\n",
            "  [5 6 7]]\n",
            "\n",
            " [[8 9 5]\n",
            "  [1 2 3]]]\n",
            "3\n"
          ]
        }
      ]
    },
    {
      "cell_type": "markdown",
      "source": [
        "# 4D ARRAY"
      ],
      "metadata": {
        "id": "BDv2y05pk5eE"
      }
    },
    {
      "cell_type": "code",
      "source": [
        "import numpy as np\n",
        "d=np.array([[[[3,2,3],[5,6,7]],[[8,9,5],[1,2,3]]],[[[3,2,3],[5,6,7]],[[8,9,5],[1,2,3]]]])\n",
        "print(d)\n",
        "print(d.ndim)"
      ],
      "metadata": {
        "colab": {
          "base_uri": "https://localhost:8080/"
        },
        "id": "D6KTNGZBkYJO",
        "outputId": "4966ecee-3c71-4a68-dfdb-553f359c016d"
      },
      "execution_count": 115,
      "outputs": [
        {
          "output_type": "stream",
          "name": "stdout",
          "text": [
            "[[[[3 2 3]\n",
            "   [5 6 7]]\n",
            "\n",
            "  [[8 9 5]\n",
            "   [1 2 3]]]\n",
            "\n",
            "\n",
            " [[[3 2 3]\n",
            "   [5 6 7]]\n",
            "\n",
            "  [[8 9 5]\n",
            "   [1 2 3]]]]\n",
            "4\n"
          ]
        }
      ]
    },
    {
      "cell_type": "markdown",
      "source": [
        "# INITIAL PLACEHOLDERS:\n"
      ],
      "metadata": {
        "id": "UMZa8LWRme-1"
      }
    },
    {
      "cell_type": "code",
      "source": [
        "np.zeros((1,2))"
      ],
      "metadata": {
        "colab": {
          "base_uri": "https://localhost:8080/"
        },
        "id": "W2TQFjnamvPX",
        "outputId": "383a34e5-2297-40b5-bdfd-cd0c0bf39866"
      },
      "execution_count": 13,
      "outputs": [
        {
          "output_type": "execute_result",
          "data": {
            "text/plain": [
              "array([[0., 0.]])"
            ]
          },
          "metadata": {},
          "execution_count": 13
        }
      ]
    },
    {
      "cell_type": "code",
      "source": [
        "np.zeros((2,4,6))"
      ],
      "metadata": {
        "colab": {
          "base_uri": "https://localhost:8080/"
        },
        "id": "qhGc4CVhnAgJ",
        "outputId": "0ddbe632-8381-4c94-fada-5e567bfa5030"
      },
      "execution_count": 67,
      "outputs": [
        {
          "output_type": "execute_result",
          "data": {
            "text/plain": [
              "array([[[0., 0., 0., 0., 0., 0.],\n",
              "        [0., 0., 0., 0., 0., 0.],\n",
              "        [0., 0., 0., 0., 0., 0.],\n",
              "        [0., 0., 0., 0., 0., 0.]],\n",
              "\n",
              "       [[0., 0., 0., 0., 0., 0.],\n",
              "        [0., 0., 0., 0., 0., 0.],\n",
              "        [0., 0., 0., 0., 0., 0.],\n",
              "        [0., 0., 0., 0., 0., 0.]]])"
            ]
          },
          "metadata": {},
          "execution_count": 67
        }
      ]
    },
    {
      "cell_type": "code",
      "source": [
        "np.zeros((3,2))"
      ],
      "metadata": {
        "colab": {
          "base_uri": "https://localhost:8080/"
        },
        "id": "5JrGNqG9nFiQ",
        "outputId": "92d870f6-7076-41f5-809b-a226ff812737"
      },
      "execution_count": 15,
      "outputs": [
        {
          "output_type": "execute_result",
          "data": {
            "text/plain": [
              "array([[0., 0.],\n",
              "       [0., 0.],\n",
              "       [0., 0.]])"
            ]
          },
          "metadata": {},
          "execution_count": 15
        }
      ]
    },
    {
      "cell_type": "code",
      "source": [
        "np.ones((4))"
      ],
      "metadata": {
        "colab": {
          "base_uri": "https://localhost:8080/"
        },
        "id": "tF3ZWbnqugBd",
        "outputId": "57254bd7-1426-4796-cbad-812a819ba341"
      },
      "execution_count": 68,
      "outputs": [
        {
          "output_type": "execute_result",
          "data": {
            "text/plain": [
              "array([1., 1., 1., 1.])"
            ]
          },
          "metadata": {},
          "execution_count": 68
        }
      ]
    },
    {
      "cell_type": "code",
      "source": [
        "np.ones((2,2))"
      ],
      "metadata": {
        "colab": {
          "base_uri": "https://localhost:8080/"
        },
        "id": "feRfbs3MnLYU",
        "outputId": "fa48db0b-96db-479e-d4d7-2076b71e50b7"
      },
      "execution_count": 16,
      "outputs": [
        {
          "output_type": "execute_result",
          "data": {
            "text/plain": [
              "array([[1., 1.],\n",
              "       [1., 1.]])"
            ]
          },
          "metadata": {},
          "execution_count": 16
        }
      ]
    },
    {
      "cell_type": "code",
      "source": [
        "np.ones((3,2,5))"
      ],
      "metadata": {
        "colab": {
          "base_uri": "https://localhost:8080/"
        },
        "id": "lO7Khg9NnXMQ",
        "outputId": "2074bed1-1223-4703-b772-b9c09a6b3301"
      },
      "execution_count": 19,
      "outputs": [
        {
          "output_type": "execute_result",
          "data": {
            "text/plain": [
              "array([[[1., 1., 1., 1., 1.],\n",
              "        [1., 1., 1., 1., 1.]],\n",
              "\n",
              "       [[1., 1., 1., 1., 1.],\n",
              "        [1., 1., 1., 1., 1.]],\n",
              "\n",
              "       [[1., 1., 1., 1., 1.],\n",
              "        [1., 1., 1., 1., 1.]]])"
            ]
          },
          "metadata": {},
          "execution_count": 19
        }
      ]
    },
    {
      "cell_type": "code",
      "source": [
        "np.zeros((5,6,2))"
      ],
      "metadata": {
        "colab": {
          "base_uri": "https://localhost:8080/"
        },
        "id": "DpdACWIcnh3l",
        "outputId": "a4f293a0-c0ba-40f4-f7cd-e1b38b0827d5"
      },
      "execution_count": 20,
      "outputs": [
        {
          "output_type": "execute_result",
          "data": {
            "text/plain": [
              "array([[[0., 0.],\n",
              "        [0., 0.],\n",
              "        [0., 0.],\n",
              "        [0., 0.],\n",
              "        [0., 0.],\n",
              "        [0., 0.]],\n",
              "\n",
              "       [[0., 0.],\n",
              "        [0., 0.],\n",
              "        [0., 0.],\n",
              "        [0., 0.],\n",
              "        [0., 0.],\n",
              "        [0., 0.]],\n",
              "\n",
              "       [[0., 0.],\n",
              "        [0., 0.],\n",
              "        [0., 0.],\n",
              "        [0., 0.],\n",
              "        [0., 0.],\n",
              "        [0., 0.]],\n",
              "\n",
              "       [[0., 0.],\n",
              "        [0., 0.],\n",
              "        [0., 0.],\n",
              "        [0., 0.],\n",
              "        [0., 0.],\n",
              "        [0., 0.]],\n",
              "\n",
              "       [[0., 0.],\n",
              "        [0., 0.],\n",
              "        [0., 0.],\n",
              "        [0., 0.],\n",
              "        [0., 0.],\n",
              "        [0., 0.]]])"
            ]
          },
          "metadata": {},
          "execution_count": 20
        }
      ]
    },
    {
      "cell_type": "code",
      "source": [
        "np.linspace(0,1,10)"
      ],
      "metadata": {
        "colab": {
          "base_uri": "https://localhost:8080/"
        },
        "id": "HIWWpvwnoceV",
        "outputId": "e72cf288-bd2e-40cc-a45d-81bb516f7cfc"
      },
      "execution_count": 29,
      "outputs": [
        {
          "output_type": "execute_result",
          "data": {
            "text/plain": [
              "array([0.        , 0.11111111, 0.22222222, 0.33333333, 0.44444444,\n",
              "       0.55555556, 0.66666667, 0.77777778, 0.88888889, 1.        ])"
            ]
          },
          "metadata": {},
          "execution_count": 29
        }
      ]
    },
    {
      "cell_type": "code",
      "source": [
        "np.linspace(0,100,10)"
      ],
      "metadata": {
        "colab": {
          "base_uri": "https://localhost:8080/"
        },
        "id": "Ei9f3tYPomlY",
        "outputId": "6c4f6228-6af9-4e10-d36e-c6ce82f7b63c"
      },
      "execution_count": 30,
      "outputs": [
        {
          "output_type": "execute_result",
          "data": {
            "text/plain": [
              "array([  0.        ,  11.11111111,  22.22222222,  33.33333333,\n",
              "        44.44444444,  55.55555556,  66.66666667,  77.77777778,\n",
              "        88.88888889, 100.        ])"
            ]
          },
          "metadata": {},
          "execution_count": 30
        }
      ]
    },
    {
      "cell_type": "code",
      "source": [
        "np.linspace(0,1.5,10)"
      ],
      "metadata": {
        "colab": {
          "base_uri": "https://localhost:8080/"
        },
        "id": "wf0N8KLMovmD",
        "outputId": "142bfabe-29e9-4497-94aa-bf47c0b34ceb"
      },
      "execution_count": 31,
      "outputs": [
        {
          "output_type": "execute_result",
          "data": {
            "text/plain": [
              "array([0.        , 0.16666667, 0.33333333, 0.5       , 0.66666667,\n",
              "       0.83333333, 1.        , 1.16666667, 1.33333333, 1.5       ])"
            ]
          },
          "metadata": {},
          "execution_count": 31
        }
      ]
    },
    {
      "cell_type": "code",
      "source": [
        "e=np.arange(0,10,2)\n",
        "print(e)"
      ],
      "metadata": {
        "colab": {
          "base_uri": "https://localhost:8080/"
        },
        "id": "K9PstJ4po0gs",
        "outputId": "c5abc2e8-2f4c-47f4-8c47-6c8facbcb76d"
      },
      "execution_count": 34,
      "outputs": [
        {
          "output_type": "stream",
          "name": "stdout",
          "text": [
            "[0 2 4 6 8]\n"
          ]
        }
      ]
    },
    {
      "cell_type": "code",
      "source": [
        "e=np.arange(0,10,3)\n",
        "print(e)"
      ],
      "metadata": {
        "colab": {
          "base_uri": "https://localhost:8080/"
        },
        "id": "p8C72spXpNsN",
        "outputId": "41e4a123-e1c1-4a08-a24e-94d4e9fa07fd"
      },
      "execution_count": 35,
      "outputs": [
        {
          "output_type": "stream",
          "name": "stdout",
          "text": [
            "[0 3 6 9]\n"
          ]
        }
      ]
    },
    {
      "cell_type": "code",
      "source": [
        "a=np.full((6),5)\n",
        "print(a)\n",
        "print(a.ndim)"
      ],
      "metadata": {
        "colab": {
          "base_uri": "https://localhost:8080/"
        },
        "id": "-TELxZMSpY0r",
        "outputId": "4efcd3ff-1280-472e-dc43-c56b243fb833"
      },
      "execution_count": 70,
      "outputs": [
        {
          "output_type": "stream",
          "name": "stdout",
          "text": [
            "[5 5 5 5 5 5]\n",
            "1\n"
          ]
        }
      ]
    },
    {
      "cell_type": "code",
      "source": [
        "a=np.full((6,7),5)\n",
        "print(a)\n",
        "print(a.ndim)"
      ],
      "metadata": {
        "colab": {
          "base_uri": "https://localhost:8080/"
        },
        "id": "oY8qry0BpwNT",
        "outputId": "3d8f350a-bf0d-4778-cfda-660f0c408136"
      },
      "execution_count": 69,
      "outputs": [
        {
          "output_type": "stream",
          "name": "stdout",
          "text": [
            "[[5 5 5 5 5 5 5]\n",
            " [5 5 5 5 5 5 5]\n",
            " [5 5 5 5 5 5 5]\n",
            " [5 5 5 5 5 5 5]\n",
            " [5 5 5 5 5 5 5]\n",
            " [5 5 5 5 5 5 5]]\n",
            "2\n"
          ]
        }
      ]
    },
    {
      "cell_type": "code",
      "source": [
        "a=np.full((1,7,3,2),5)\n",
        "print(a)\n",
        "print(a.ndim)"
      ],
      "metadata": {
        "colab": {
          "base_uri": "https://localhost:8080/"
        },
        "id": "Ld3qDUejvCD2",
        "outputId": "c861905a-b2d0-45f5-f78d-f869b39dc572"
      },
      "execution_count": 72,
      "outputs": [
        {
          "output_type": "stream",
          "name": "stdout",
          "text": [
            "[[[[5 5]\n",
            "   [5 5]\n",
            "   [5 5]]\n",
            "\n",
            "  [[5 5]\n",
            "   [5 5]\n",
            "   [5 5]]\n",
            "\n",
            "  [[5 5]\n",
            "   [5 5]\n",
            "   [5 5]]\n",
            "\n",
            "  [[5 5]\n",
            "   [5 5]\n",
            "   [5 5]]\n",
            "\n",
            "  [[5 5]\n",
            "   [5 5]\n",
            "   [5 5]]\n",
            "\n",
            "  [[5 5]\n",
            "   [5 5]\n",
            "   [5 5]]\n",
            "\n",
            "  [[5 5]\n",
            "   [5 5]\n",
            "   [5 5]]]]\n",
            "4\n"
          ]
        }
      ]
    },
    {
      "cell_type": "code",
      "source": [
        "a=np.full((2,6,7),5)\n",
        "print(a)\n",
        "print(a.ndim)"
      ],
      "metadata": {
        "id": "9sEdaHSqvWVz",
        "outputId": "8208a10b-284e-476f-d275-d966d296277e",
        "colab": {
          "base_uri": "https://localhost:8080/"
        }
      },
      "execution_count": 73,
      "outputs": [
        {
          "output_type": "stream",
          "name": "stdout",
          "text": [
            "[[[5 5 5 5 5 5 5]\n",
            "  [5 5 5 5 5 5 5]\n",
            "  [5 5 5 5 5 5 5]\n",
            "  [5 5 5 5 5 5 5]\n",
            "  [5 5 5 5 5 5 5]\n",
            "  [5 5 5 5 5 5 5]]\n",
            "\n",
            " [[5 5 5 5 5 5 5]\n",
            "  [5 5 5 5 5 5 5]\n",
            "  [5 5 5 5 5 5 5]\n",
            "  [5 5 5 5 5 5 5]\n",
            "  [5 5 5 5 5 5 5]\n",
            "  [5 5 5 5 5 5 5]]]\n",
            "3\n"
          ]
        }
      ]
    },
    {
      "cell_type": "code",
      "source": [
        "f=np.random.random((2,3))\n",
        "print(f)"
      ],
      "metadata": {
        "colab": {
          "base_uri": "https://localhost:8080/"
        },
        "id": "HilJAM2uqjPo",
        "outputId": "5a1aafcc-27bf-4fad-f051-87717ef53425"
      },
      "execution_count": 47,
      "outputs": [
        {
          "output_type": "stream",
          "name": "stdout",
          "text": [
            "[[0.04773645 0.87646477 0.78786112]\n",
            " [0.69231364 0.65985716 0.95550315]]\n"
          ]
        }
      ]
    },
    {
      "cell_type": "code",
      "source": [
        "f=np.random.random((2,3,5))\n",
        "print(f)"
      ],
      "metadata": {
        "colab": {
          "base_uri": "https://localhost:8080/"
        },
        "id": "7Ho-XGcRquo4",
        "outputId": "46082704-605a-4b89-b4d0-519f09c82e28"
      },
      "execution_count": 74,
      "outputs": [
        {
          "output_type": "stream",
          "name": "stdout",
          "text": [
            "[[[0.08165084 0.18024737 0.95450367 0.82146508 0.12255436]\n",
            "  [0.31505472 0.97260159 0.15844167 0.47388396 0.09375415]\n",
            "  [0.29808885 0.90114998 0.27778606 0.41366348 0.00922057]]\n",
            "\n",
            " [[0.67506968 0.5299788  0.16405496 0.03057    0.09128304]\n",
            "  [0.53558933 0.88172153 0.66155146 0.81677042 0.06769616]\n",
            "  [0.09096588 0.47233178 0.94641015 0.89147062 0.77854427]]]\n"
          ]
        }
      ]
    },
    {
      "cell_type": "code",
      "source": [
        "f=np.random.random((2,3,3,2))\n",
        "print(f)"
      ],
      "metadata": {
        "colab": {
          "base_uri": "https://localhost:8080/"
        },
        "id": "uVki9O75q26_",
        "outputId": "ce71985f-0168-4350-e351-a889d028173b"
      },
      "execution_count": 50,
      "outputs": [
        {
          "output_type": "stream",
          "name": "stdout",
          "text": [
            "[[[[0.17001301 0.10867273]\n",
            "   [0.72503301 0.63183969]\n",
            "   [0.68668453 0.91957846]]\n",
            "\n",
            "  [[0.70490723 0.12876139]\n",
            "   [0.86121433 0.52281498]\n",
            "   [0.8260197  0.35927239]]\n",
            "\n",
            "  [[0.35879874 0.85589525]\n",
            "   [0.62113127 0.55771368]\n",
            "   [0.99704088 0.39799586]]]\n",
            "\n",
            "\n",
            " [[[0.26529458 0.48082523]\n",
            "   [0.73745467 0.00756026]\n",
            "   [0.90312832 0.79113291]]\n",
            "\n",
            "  [[0.35849302 0.95505707]\n",
            "   [0.28503099 0.95566424]\n",
            "   [0.4493294  0.84564733]]\n",
            "\n",
            "  [[0.56107929 0.21800586]\n",
            "   [0.29429535 0.75425947]\n",
            "   [0.36036556 0.88330205]]]]\n"
          ]
        }
      ]
    },
    {
      "cell_type": "code",
      "source": [
        "f=np.eye(5)\n",
        "print(f)"
      ],
      "metadata": {
        "colab": {
          "base_uri": "https://localhost:8080/"
        },
        "id": "EjLGFbu2rZOU",
        "outputId": "3521931c-90f7-46fe-94ce-e0e37c0c8c69"
      },
      "execution_count": 53,
      "outputs": [
        {
          "output_type": "stream",
          "name": "stdout",
          "text": [
            "[[1. 0. 0. 0. 0.]\n",
            " [0. 1. 0. 0. 0.]\n",
            " [0. 0. 1. 0. 0.]\n",
            " [0. 0. 0. 1. 0.]\n",
            " [0. 0. 0. 0. 1.]]\n"
          ]
        }
      ]
    },
    {
      "cell_type": "code",
      "source": [
        "f=np.eye(3,5)\n",
        "print(f)"
      ],
      "metadata": {
        "colab": {
          "base_uri": "https://localhost:8080/"
        },
        "id": "q-279arorhFZ",
        "outputId": "c458e0d9-eb9f-4401-e67c-69fcd83982b0"
      },
      "execution_count": 58,
      "outputs": [
        {
          "output_type": "stream",
          "name": "stdout",
          "text": [
            "[[1. 0. 0. 0. 0.]\n",
            " [0. 1. 0. 0. 0.]\n",
            " [0. 0. 1. 0. 0.]]\n"
          ]
        }
      ]
    },
    {
      "cell_type": "code",
      "source": [
        "arr=np.array([(1,2,3,4),(3,4,5,6),(5,6,7,8)])\n",
        "print(arr.shape)"
      ],
      "metadata": {
        "colab": {
          "base_uri": "https://localhost:8080/"
        },
        "id": "pw2nCQ58r9IJ",
        "outputId": "506e243f-d630-4997-cad8-16eee3380660"
      },
      "execution_count": 75,
      "outputs": [
        {
          "output_type": "stream",
          "name": "stdout",
          "text": [
            "(3, 4)\n"
          ]
        }
      ]
    },
    {
      "cell_type": "code",
      "source": [
        "arr=np.array([[1,2,3,4],[3,4,5,6],[5,6,7,8],[1,3,4,5]])\n",
        "print(arr.shape)"
      ],
      "metadata": {
        "colab": {
          "base_uri": "https://localhost:8080/"
        },
        "id": "VWrVJGlosOv2",
        "outputId": "403b9976-94e4-47d6-b34e-d7ca5256db23"
      },
      "execution_count": 60,
      "outputs": [
        {
          "output_type": "stream",
          "name": "stdout",
          "text": [
            "(4, 4)\n"
          ]
        }
      ]
    },
    {
      "cell_type": "code",
      "source": [
        "arr=np.array([1,2,3,4])\n",
        "print(arr.size)"
      ],
      "metadata": {
        "colab": {
          "base_uri": "https://localhost:8080/"
        },
        "id": "bHwhSeHIsavw",
        "outputId": "ffebe9c7-56ec-4cd3-d589-1632ed82b305"
      },
      "execution_count": 61,
      "outputs": [
        {
          "output_type": "stream",
          "name": "stdout",
          "text": [
            "4\n"
          ]
        }
      ]
    },
    {
      "cell_type": "code",
      "source": [
        "arr=np.array([[1,2,3,4],[3,4,5,6],[5,6,7,8],[1,3,4,5]])\n",
        "print(arr.size)\n",
        "len(arr)"
      ],
      "metadata": {
        "id": "wXw_yqmiwVoL",
        "outputId": "47b56ff4-dacb-43a4-e34b-cf2bd8fcd4d5",
        "colab": {
          "base_uri": "https://localhost:8080/"
        }
      },
      "execution_count": 78,
      "outputs": [
        {
          "output_type": "stream",
          "name": "stdout",
          "text": [
            "16\n"
          ]
        },
        {
          "output_type": "execute_result",
          "data": {
            "text/plain": [
              "4"
            ]
          },
          "metadata": {},
          "execution_count": 78
        }
      ]
    }
  ]
}